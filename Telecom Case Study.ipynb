{
 "cells": [
  {
   "cell_type": "markdown",
   "metadata": {},
   "source": [
    "# TELECOM CASE STUDY"
   ]
  },
  {
   "cell_type": "markdown",
   "metadata": {},
   "source": [
    "**Objective-** Client wants to know what the factors which contribute to churn are. They would like to have a system through which they could identify such customer which could also help them decide who the one who could not be retained are and the customer who could be retained what should be the appropriate incentive for them. They have goal to bring down the churn rate to the minimum. "
   ]
  },
  {
   "cell_type": "code",
   "execution_count": 2,
   "metadata": {},
   "outputs": [],
   "source": [
    "import numpy as np\n",
    "import pandas as pd\n",
    "import os"
   ]
  },
  {
   "cell_type": "code",
   "execution_count": 3,
   "metadata": {},
   "outputs": [
    {
     "data": {
      "text/plain": [
       "'C:\\\\Users\\\\HP'"
      ]
     },
     "execution_count": 3,
     "metadata": {},
     "output_type": "execute_result"
    }
   ],
   "source": [
    "os.getcwd()"
   ]
  },
  {
   "cell_type": "code",
   "execution_count": 4,
   "metadata": {},
   "outputs": [],
   "source": [
    "os.chdir('E:\\\\Profond AI\\\\Real time projects\\\\TELECOM CASE STUDY')"
   ]
  },
  {
   "cell_type": "markdown",
   "metadata": {},
   "source": [
    "Data is available in a workbook having two sheets- Active and churn customers"
   ]
  },
  {
   "cell_type": "code",
   "execution_count": 5,
   "metadata": {},
   "outputs": [],
   "source": [
    "data=pd.read_excel(\"Case_study_data 2.xlsx\", sheet_name=0, index_col=0)"
   ]
  },
  {
   "cell_type": "code",
   "execution_count": 6,
   "metadata": {},
   "outputs": [
    {
     "data": {
      "text/html": [
       "<div>\n",
       "<style scoped>\n",
       "    .dataframe tbody tr th:only-of-type {\n",
       "        vertical-align: middle;\n",
       "    }\n",
       "\n",
       "    .dataframe tbody tr th {\n",
       "        vertical-align: top;\n",
       "    }\n",
       "\n",
       "    .dataframe thead th {\n",
       "        text-align: right;\n",
       "    }\n",
       "</style>\n",
       "<table border=\"1\" class=\"dataframe\">\n",
       "  <thead>\n",
       "    <tr style=\"text-align: right;\">\n",
       "      <th></th>\n",
       "      <th>ACCOUNT_STATUS</th>\n",
       "      <th>FIRST_COMMUNICATION_DATE</th>\n",
       "      <th>UPGRADE_DATE</th>\n",
       "      <th>SERVICE_ PLAN</th>\n",
       "      <th>MODEL</th>\n",
       "      <th>SALES_CHANNEL</th>\n",
       "      <th>DIRECT_INDIRECT_CHANNEL</th>\n",
       "      <th>SALES_SOURCE</th>\n",
       "      <th>COMPANY_SOURCE_NAME</th>\n",
       "      <th>FIRST_NAME</th>\n",
       "      <th>...</th>\n",
       "      <th>WARRANTY_NAME</th>\n",
       "      <th>MOST_RECENT_SALES_CHANNEL</th>\n",
       "      <th>GENDER</th>\n",
       "      <th>DATE_OF_BIRTH</th>\n",
       "      <th>AGE</th>\n",
       "      <th>INCOME</th>\n",
       "      <th>MARITAL_STATUS</th>\n",
       "      <th>PRESENCE_OF_CHILDREN</th>\n",
       "      <th>COMPUTER_OWNER</th>\n",
       "      <th>Churn</th>\n",
       "    </tr>\n",
       "    <tr>\n",
       "      <th>SITE_ACCOUNT_NUMBER</th>\n",
       "      <th></th>\n",
       "      <th></th>\n",
       "      <th></th>\n",
       "      <th></th>\n",
       "      <th></th>\n",
       "      <th></th>\n",
       "      <th></th>\n",
       "      <th></th>\n",
       "      <th></th>\n",
       "      <th></th>\n",
       "      <th></th>\n",
       "      <th></th>\n",
       "      <th></th>\n",
       "      <th></th>\n",
       "      <th></th>\n",
       "      <th></th>\n",
       "      <th></th>\n",
       "      <th></th>\n",
       "      <th></th>\n",
       "      <th></th>\n",
       "      <th></th>\n",
       "    </tr>\n",
       "  </thead>\n",
       "  <tbody>\n",
       "    <tr>\n",
       "      <th>AMR-11112345</th>\n",
       "      <td>Active</td>\n",
       "      <td>2001-11-27</td>\n",
       "      <td>2003-12-14</td>\n",
       "      <td>NaN</td>\n",
       "      <td>HN9000</td>\n",
       "      <td>Vars</td>\n",
       "      <td>Indirect</td>\n",
       "      <td>UNKNOWN</td>\n",
       "      <td>HNS Customers</td>\n",
       "      <td>Ace</td>\n",
       "      <td>...</td>\n",
       "      <td>0</td>\n",
       "      <td>HN7000 Upgrade</td>\n",
       "      <td>2.0</td>\n",
       "      <td>1-5-1943</td>\n",
       "      <td>69</td>\n",
       "      <td>0</td>\n",
       "      <td>1.0</td>\n",
       "      <td>0.0</td>\n",
       "      <td>N</td>\n",
       "      <td>0</td>\n",
       "    </tr>\n",
       "    <tr>\n",
       "      <th>AMR-14837287</th>\n",
       "      <td>Active</td>\n",
       "      <td>2003-05-02</td>\n",
       "      <td>2006-08-08</td>\n",
       "      <td>Pro</td>\n",
       "      <td>HN7000S</td>\n",
       "      <td>Sales Agents</td>\n",
       "      <td>Indirect</td>\n",
       "      <td>NCC</td>\n",
       "      <td>HNS Customers</td>\n",
       "      <td>Robert</td>\n",
       "      <td>...</td>\n",
       "      <td>0</td>\n",
       "      <td>Retail</td>\n",
       "      <td>2.0</td>\n",
       "      <td>28-12-1969</td>\n",
       "      <td>43</td>\n",
       "      <td>4</td>\n",
       "      <td>1.0</td>\n",
       "      <td>0.0</td>\n",
       "      <td>N</td>\n",
       "      <td>0</td>\n",
       "    </tr>\n",
       "    <tr>\n",
       "      <th>AMR-14837803</th>\n",
       "      <td>Active</td>\n",
       "      <td>2001-01-28</td>\n",
       "      <td>2004-03-17</td>\n",
       "      <td>Power150</td>\n",
       "      <td>HN9000</td>\n",
       "      <td>Call Center</td>\n",
       "      <td>Indirect</td>\n",
       "      <td>NCC</td>\n",
       "      <td>HNS Customers</td>\n",
       "      <td>EDWARD</td>\n",
       "      <td>...</td>\n",
       "      <td>0</td>\n",
       "      <td>National Sales</td>\n",
       "      <td>2.0</td>\n",
       "      <td>20-7-1954</td>\n",
       "      <td>58</td>\n",
       "      <td>4</td>\n",
       "      <td>1.0</td>\n",
       "      <td>0.0</td>\n",
       "      <td>N</td>\n",
       "      <td>0</td>\n",
       "    </tr>\n",
       "    <tr>\n",
       "      <th>AMR-14837821</th>\n",
       "      <td>Active</td>\n",
       "      <td>2001-11-20</td>\n",
       "      <td>2005-03-27</td>\n",
       "      <td>Power150</td>\n",
       "      <td>DW6000</td>\n",
       "      <td>Sales Agents</td>\n",
       "      <td>Direct</td>\n",
       "      <td>NaN</td>\n",
       "      <td>HNS Customers</td>\n",
       "      <td>Dannya</td>\n",
       "      <td>...</td>\n",
       "      <td>0</td>\n",
       "      <td>Direct</td>\n",
       "      <td>NaN</td>\n",
       "      <td>10-5-1990</td>\n",
       "      <td>22</td>\n",
       "      <td>6</td>\n",
       "      <td>1.0</td>\n",
       "      <td>1.0</td>\n",
       "      <td>NaN</td>\n",
       "      <td>0</td>\n",
       "    </tr>\n",
       "    <tr>\n",
       "      <th>AMR-14839297</th>\n",
       "      <td>Active</td>\n",
       "      <td>2002-02-27</td>\n",
       "      <td>2004-06-14</td>\n",
       "      <td>Home</td>\n",
       "      <td>HN7000S</td>\n",
       "      <td>Call Center</td>\n",
       "      <td>Indirect</td>\n",
       "      <td>TAG</td>\n",
       "      <td>HNS Customers</td>\n",
       "      <td>Joannea</td>\n",
       "      <td>...</td>\n",
       "      <td>0</td>\n",
       "      <td>DW6000 Upgrade</td>\n",
       "      <td>1.0</td>\n",
       "      <td>11-5-1976</td>\n",
       "      <td>36</td>\n",
       "      <td>7</td>\n",
       "      <td>0.0</td>\n",
       "      <td>0.0</td>\n",
       "      <td>NaN</td>\n",
       "      <td>0</td>\n",
       "    </tr>\n",
       "  </tbody>\n",
       "</table>\n",
       "<p>5 rows × 29 columns</p>\n",
       "</div>"
      ],
      "text/plain": [
       "                    ACCOUNT_STATUS FIRST_COMMUNICATION_DATE UPGRADE_DATE  \\\n",
       "SITE_ACCOUNT_NUMBER                                                        \n",
       "AMR-11112345                Active               2001-11-27   2003-12-14   \n",
       "AMR-14837287                Active               2003-05-02   2006-08-08   \n",
       "AMR-14837803                Active               2001-01-28   2004-03-17   \n",
       "AMR-14837821                Active               2001-11-20   2005-03-27   \n",
       "AMR-14839297                Active               2002-02-27   2004-06-14   \n",
       "\n",
       "                    SERVICE_ PLAN    MODEL SALES_CHANNEL  \\\n",
       "SITE_ACCOUNT_NUMBER                                        \n",
       "AMR-11112345                  NaN   HN9000          Vars   \n",
       "AMR-14837287                  Pro  HN7000S  Sales Agents   \n",
       "AMR-14837803             Power150   HN9000   Call Center   \n",
       "AMR-14837821             Power150   DW6000  Sales Agents   \n",
       "AMR-14839297                 Home  HN7000S   Call Center   \n",
       "\n",
       "                    DIRECT_INDIRECT_CHANNEL SALES_SOURCE COMPANY_SOURCE_NAME  \\\n",
       "SITE_ACCOUNT_NUMBER                                                            \n",
       "AMR-11112345                       Indirect      UNKNOWN       HNS Customers   \n",
       "AMR-14837287                       Indirect          NCC       HNS Customers   \n",
       "AMR-14837803                       Indirect          NCC       HNS Customers   \n",
       "AMR-14837821                         Direct          NaN       HNS Customers   \n",
       "AMR-14839297                       Indirect          TAG       HNS Customers   \n",
       "\n",
       "                    FIRST_NAME  ... WARRANTY_NAME MOST_RECENT_SALES_CHANNEL  \\\n",
       "SITE_ACCOUNT_NUMBER             ...                                           \n",
       "AMR-11112345               Ace  ...             0            HN7000 Upgrade   \n",
       "AMR-14837287            Robert  ...             0             Retail          \n",
       "AMR-14837803            EDWARD  ...             0            National Sales   \n",
       "AMR-14837821            Dannya  ...             0                    Direct   \n",
       "AMR-14839297           Joannea  ...             0            DW6000 Upgrade   \n",
       "\n",
       "                    GENDER DATE_OF_BIRTH AGE INCOME MARITAL_STATUS  \\\n",
       "SITE_ACCOUNT_NUMBER                                                  \n",
       "AMR-11112345           2.0      1-5-1943  69      0            1.0   \n",
       "AMR-14837287           2.0    28-12-1969  43      4            1.0   \n",
       "AMR-14837803           2.0     20-7-1954  58      4            1.0   \n",
       "AMR-14837821           NaN     10-5-1990  22      6            1.0   \n",
       "AMR-14839297           1.0     11-5-1976  36      7            0.0   \n",
       "\n",
       "                    PRESENCE_OF_CHILDREN COMPUTER_OWNER Churn  \n",
       "SITE_ACCOUNT_NUMBER                                            \n",
       "AMR-11112345                         0.0              N     0  \n",
       "AMR-14837287                         0.0              N     0  \n",
       "AMR-14837803                         0.0              N     0  \n",
       "AMR-14837821                         1.0            NaN     0  \n",
       "AMR-14839297                         0.0            NaN     0  \n",
       "\n",
       "[5 rows x 29 columns]"
      ]
     },
     "execution_count": 6,
     "metadata": {},
     "output_type": "execute_result"
    }
   ],
   "source": [
    "data.head()"
   ]
  },
  {
   "cell_type": "code",
   "execution_count": 7,
   "metadata": {},
   "outputs": [],
   "source": [
    "data2=pd.read_excel(\"Case_study_data 2.xlsx\", sheet_name=1, index_col=0)"
   ]
  },
  {
   "cell_type": "code",
   "execution_count": 8,
   "metadata": {},
   "outputs": [
    {
     "data": {
      "text/html": [
       "<div>\n",
       "<style scoped>\n",
       "    .dataframe tbody tr th:only-of-type {\n",
       "        vertical-align: middle;\n",
       "    }\n",
       "\n",
       "    .dataframe tbody tr th {\n",
       "        vertical-align: top;\n",
       "    }\n",
       "\n",
       "    .dataframe thead th {\n",
       "        text-align: right;\n",
       "    }\n",
       "</style>\n",
       "<table border=\"1\" class=\"dataframe\">\n",
       "  <thead>\n",
       "    <tr style=\"text-align: right;\">\n",
       "      <th></th>\n",
       "      <th>ACCOUNT_STATUS</th>\n",
       "      <th>FIRST_COMMUNICATION_DATE</th>\n",
       "      <th>UPGRADE_DATE</th>\n",
       "      <th>SERVICE_PLAN</th>\n",
       "      <th>MODEL</th>\n",
       "      <th>SALES_CHANNEL</th>\n",
       "      <th>DIRECT_INDIRECT_CHANNEL</th>\n",
       "      <th>SALES_SOURCE</th>\n",
       "      <th>COMPANY_SOURCE_NAME</th>\n",
       "      <th>FIRST_NAME</th>\n",
       "      <th>...</th>\n",
       "      <th>WARRANTY_NAME</th>\n",
       "      <th>MOST_RECENT_SALES_CHANNEL</th>\n",
       "      <th>GENDER</th>\n",
       "      <th>DATE_OF_BIRTH</th>\n",
       "      <th>AGE</th>\n",
       "      <th>INCOME</th>\n",
       "      <th>MARITAL_STATUS</th>\n",
       "      <th>PRESENCE_OF_CHILDREN</th>\n",
       "      <th>COMPUTER_OWNER</th>\n",
       "      <th>Churn</th>\n",
       "    </tr>\n",
       "    <tr>\n",
       "      <th>SITE_ACCOUNT_NUMBER</th>\n",
       "      <th></th>\n",
       "      <th></th>\n",
       "      <th></th>\n",
       "      <th></th>\n",
       "      <th></th>\n",
       "      <th></th>\n",
       "      <th></th>\n",
       "      <th></th>\n",
       "      <th></th>\n",
       "      <th></th>\n",
       "      <th></th>\n",
       "      <th></th>\n",
       "      <th></th>\n",
       "      <th></th>\n",
       "      <th></th>\n",
       "      <th></th>\n",
       "      <th></th>\n",
       "      <th></th>\n",
       "      <th></th>\n",
       "      <th></th>\n",
       "      <th></th>\n",
       "    </tr>\n",
       "  </thead>\n",
       "  <tbody>\n",
       "    <tr>\n",
       "      <th>AMR-53205840</th>\n",
       "      <td>Closed</td>\n",
       "      <td>2002-01-18</td>\n",
       "      <td>2004-01-03</td>\n",
       "      <td>Professional</td>\n",
       "      <td>DW6000</td>\n",
       "      <td>NaN</td>\n",
       "      <td>Indirect</td>\n",
       "      <td>Perfect 10</td>\n",
       "      <td>HNS Customers</td>\n",
       "      <td>Rennisa</td>\n",
       "      <td>...</td>\n",
       "      <td>NaN</td>\n",
       "      <td>Dealer-Generated Sale</td>\n",
       "      <td>2.0</td>\n",
       "      <td>27-10-1964</td>\n",
       "      <td>48.0</td>\n",
       "      <td>0</td>\n",
       "      <td>.</td>\n",
       "      <td>NaN</td>\n",
       "      <td>N</td>\n",
       "      <td>1</td>\n",
       "    </tr>\n",
       "    <tr>\n",
       "      <th>AMR-53383136</th>\n",
       "      <td>Closed</td>\n",
       "      <td>2002-01-02</td>\n",
       "      <td>2004-07-28</td>\n",
       "      <td>SO</td>\n",
       "      <td>DW6000</td>\n",
       "      <td>Retail/Others</td>\n",
       "      <td>Indirect</td>\n",
       "      <td>ValueElectronics</td>\n",
       "      <td>HNS Customers</td>\n",
       "      <td>Howard</td>\n",
       "      <td>...</td>\n",
       "      <td>NaN</td>\n",
       "      <td>National Sales</td>\n",
       "      <td>NaN</td>\n",
       "      <td>22-10-1965</td>\n",
       "      <td>47.0</td>\n",
       "      <td>5</td>\n",
       "      <td>0</td>\n",
       "      <td>0.0</td>\n",
       "      <td>Y</td>\n",
       "      <td>1</td>\n",
       "    </tr>\n",
       "    <tr>\n",
       "      <th>AMR-53608585</th>\n",
       "      <td>Closed</td>\n",
       "      <td>2002-01-06</td>\n",
       "      <td>2005-04-27</td>\n",
       "      <td>NaN</td>\n",
       "      <td>DW6000</td>\n",
       "      <td>Retail/Others</td>\n",
       "      <td>Indirect</td>\n",
       "      <td>TAG</td>\n",
       "      <td>HNS Customers</td>\n",
       "      <td>Pavel</td>\n",
       "      <td>...</td>\n",
       "      <td>NaN</td>\n",
       "      <td>Direct</td>\n",
       "      <td>2.0</td>\n",
       "      <td>20-3-1951</td>\n",
       "      <td>61.0</td>\n",
       "      <td>8</td>\n",
       "      <td>1</td>\n",
       "      <td>0.0</td>\n",
       "      <td>Y</td>\n",
       "      <td>1</td>\n",
       "    </tr>\n",
       "    <tr>\n",
       "      <th>AMR-53610590</th>\n",
       "      <td>Closed</td>\n",
       "      <td>2002-01-05</td>\n",
       "      <td>NaT</td>\n",
       "      <td>SO</td>\n",
       "      <td>DW4000</td>\n",
       "      <td>NaN</td>\n",
       "      <td>Indirect</td>\n",
       "      <td>TAG</td>\n",
       "      <td>HNS Customers</td>\n",
       "      <td>Stoneysmita</td>\n",
       "      <td>...</td>\n",
       "      <td>NaN</td>\n",
       "      <td>Direct</td>\n",
       "      <td>1.0</td>\n",
       "      <td>27-3-1948</td>\n",
       "      <td>64.0</td>\n",
       "      <td>0</td>\n",
       "      <td>.</td>\n",
       "      <td>NaN</td>\n",
       "      <td>Y</td>\n",
       "      <td>1</td>\n",
       "    </tr>\n",
       "    <tr>\n",
       "      <th>AMR-53612154</th>\n",
       "      <td>Closed</td>\n",
       "      <td>2002-01-05</td>\n",
       "      <td>2005-11-12</td>\n",
       "      <td>Professional</td>\n",
       "      <td>DW7000</td>\n",
       "      <td>Retail/Others</td>\n",
       "      <td>Indirect</td>\n",
       "      <td>Perfect 10</td>\n",
       "      <td>HNS Customers</td>\n",
       "      <td>Bryana</td>\n",
       "      <td>...</td>\n",
       "      <td>NaN</td>\n",
       "      <td>Dealer-Generated Sale</td>\n",
       "      <td>1.0</td>\n",
       "      <td>25-8-1956</td>\n",
       "      <td>56.0</td>\n",
       "      <td>6</td>\n",
       "      <td>0</td>\n",
       "      <td>0.0</td>\n",
       "      <td>N</td>\n",
       "      <td>1</td>\n",
       "    </tr>\n",
       "  </tbody>\n",
       "</table>\n",
       "<p>5 rows × 29 columns</p>\n",
       "</div>"
      ],
      "text/plain": [
       "                    ACCOUNT_STATUS FIRST_COMMUNICATION_DATE UPGRADE_DATE  \\\n",
       "SITE_ACCOUNT_NUMBER                                                        \n",
       "AMR-53205840                Closed               2002-01-18   2004-01-03   \n",
       "AMR-53383136                Closed               2002-01-02   2004-07-28   \n",
       "AMR-53608585                Closed               2002-01-06   2005-04-27   \n",
       "AMR-53610590                Closed               2002-01-05          NaT   \n",
       "AMR-53612154                Closed               2002-01-05   2005-11-12   \n",
       "\n",
       "                     SERVICE_PLAN   MODEL  SALES_CHANNEL  \\\n",
       "SITE_ACCOUNT_NUMBER                                        \n",
       "AMR-53205840         Professional  DW6000            NaN   \n",
       "AMR-53383136                   SO  DW6000  Retail/Others   \n",
       "AMR-53608585                  NaN  DW6000  Retail/Others   \n",
       "AMR-53610590                   SO  DW4000            NaN   \n",
       "AMR-53612154         Professional  DW7000  Retail/Others   \n",
       "\n",
       "                    DIRECT_INDIRECT_CHANNEL      SALES_SOURCE  \\\n",
       "SITE_ACCOUNT_NUMBER                                             \n",
       "AMR-53205840                       Indirect        Perfect 10   \n",
       "AMR-53383136                       Indirect  ValueElectronics   \n",
       "AMR-53608585                       Indirect               TAG   \n",
       "AMR-53610590                       Indirect               TAG   \n",
       "AMR-53612154                       Indirect        Perfect 10   \n",
       "\n",
       "                    COMPANY_SOURCE_NAME   FIRST_NAME  ... WARRANTY_NAME  \\\n",
       "SITE_ACCOUNT_NUMBER                                   ...                 \n",
       "AMR-53205840              HNS Customers      Rennisa  ...           NaN   \n",
       "AMR-53383136              HNS Customers       Howard  ...           NaN   \n",
       "AMR-53608585              HNS Customers        Pavel  ...           NaN   \n",
       "AMR-53610590              HNS Customers  Stoneysmita  ...           NaN   \n",
       "AMR-53612154              HNS Customers       Bryana  ...           NaN   \n",
       "\n",
       "                    MOST_RECENT_SALES_CHANNEL GENDER DATE_OF_BIRTH   AGE  \\\n",
       "SITE_ACCOUNT_NUMBER                                                        \n",
       "AMR-53205840            Dealer-Generated Sale    2.0    27-10-1964  48.0   \n",
       "AMR-53383136                   National Sales    NaN    22-10-1965  47.0   \n",
       "AMR-53608585                           Direct    2.0     20-3-1951  61.0   \n",
       "AMR-53610590                           Direct    1.0     27-3-1948  64.0   \n",
       "AMR-53612154            Dealer-Generated Sale    1.0     25-8-1956  56.0   \n",
       "\n",
       "                    INCOME MARITAL_STATUS PRESENCE_OF_CHILDREN COMPUTER_OWNER  \\\n",
       "SITE_ACCOUNT_NUMBER                                                             \n",
       "AMR-53205840             0              .                  NaN              N   \n",
       "AMR-53383136             5              0                  0.0              Y   \n",
       "AMR-53608585             8              1                  0.0              Y   \n",
       "AMR-53610590             0              .                  NaN              Y   \n",
       "AMR-53612154             6              0                  0.0              N   \n",
       "\n",
       "                    Churn  \n",
       "SITE_ACCOUNT_NUMBER        \n",
       "AMR-53205840            1  \n",
       "AMR-53383136            1  \n",
       "AMR-53608585            1  \n",
       "AMR-53610590            1  \n",
       "AMR-53612154            1  \n",
       "\n",
       "[5 rows x 29 columns]"
      ]
     },
     "execution_count": 8,
     "metadata": {},
     "output_type": "execute_result"
    }
   ],
   "source": [
    "data2.head()"
   ]
  },
  {
   "cell_type": "code",
   "execution_count": 9,
   "metadata": {},
   "outputs": [
    {
     "data": {
      "text/plain": [
       "(10000, 29)"
      ]
     },
     "execution_count": 9,
     "metadata": {},
     "output_type": "execute_result"
    }
   ],
   "source": [
    "data2.shape"
   ]
  },
  {
   "cell_type": "code",
   "execution_count": 10,
   "metadata": {},
   "outputs": [
    {
     "name": "stderr",
     "output_type": "stream",
     "text": [
      "C:\\Users\\HP\\Anaconda3\\lib\\site-packages\\pandas\\core\\frame.py:6692: FutureWarning: Sorting because non-concatenation axis is not aligned. A future version\n",
      "of pandas will change to not sort by default.\n",
      "\n",
      "To accept the future behavior, pass 'sort=False'.\n",
      "\n",
      "To retain the current behavior and silence the warning, pass 'sort=True'.\n",
      "\n",
      "  sort=sort)\n"
     ]
    }
   ],
   "source": [
    "#merge both the data\n",
    "df=data2.append(data)"
   ]
  },
  {
   "cell_type": "code",
   "execution_count": 11,
   "metadata": {},
   "outputs": [
    {
     "data": {
      "text/html": [
       "<div>\n",
       "<style scoped>\n",
       "    .dataframe tbody tr th:only-of-type {\n",
       "        vertical-align: middle;\n",
       "    }\n",
       "\n",
       "    .dataframe tbody tr th {\n",
       "        vertical-align: top;\n",
       "    }\n",
       "\n",
       "    .dataframe thead th {\n",
       "        text-align: right;\n",
       "    }\n",
       "</style>\n",
       "<table border=\"1\" class=\"dataframe\">\n",
       "  <thead>\n",
       "    <tr style=\"text-align: right;\">\n",
       "      <th></th>\n",
       "      <th>ACCOUNT_STATUS</th>\n",
       "      <th>ADDRESS</th>\n",
       "      <th>AGE</th>\n",
       "      <th>CITY</th>\n",
       "      <th>COMPANY_SOURCE_NAME</th>\n",
       "      <th>COMPUTER_OWNER</th>\n",
       "      <th>Churn</th>\n",
       "      <th>DATE_OF_BIRTH</th>\n",
       "      <th>DIRECT_INDIRECT_CHANNEL</th>\n",
       "      <th>EMAIL_ADDRESS</th>\n",
       "      <th>...</th>\n",
       "      <th>SALES_CHANNEL</th>\n",
       "      <th>SALES_SOURCE</th>\n",
       "      <th>SATELLITE</th>\n",
       "      <th>SERVICE_ PLAN</th>\n",
       "      <th>SERVICE_PLAN</th>\n",
       "      <th>SITE_TYPE_DESC</th>\n",
       "      <th>STATE</th>\n",
       "      <th>UPGRADE_DATE</th>\n",
       "      <th>WARRANTY_NAME</th>\n",
       "      <th>ZIPCODE</th>\n",
       "    </tr>\n",
       "    <tr>\n",
       "      <th>SITE_ACCOUNT_NUMBER</th>\n",
       "      <th></th>\n",
       "      <th></th>\n",
       "      <th></th>\n",
       "      <th></th>\n",
       "      <th></th>\n",
       "      <th></th>\n",
       "      <th></th>\n",
       "      <th></th>\n",
       "      <th></th>\n",
       "      <th></th>\n",
       "      <th></th>\n",
       "      <th></th>\n",
       "      <th></th>\n",
       "      <th></th>\n",
       "      <th></th>\n",
       "      <th></th>\n",
       "      <th></th>\n",
       "      <th></th>\n",
       "      <th></th>\n",
       "      <th></th>\n",
       "      <th></th>\n",
       "    </tr>\n",
       "  </thead>\n",
       "  <tbody>\n",
       "    <tr>\n",
       "      <th>AMR-53205840</th>\n",
       "      <td>Closed</td>\n",
       "      <td>826 Nesom Rd.</td>\n",
       "      <td>48</td>\n",
       "      <td>TRINITY</td>\n",
       "      <td>HNS Customers</td>\n",
       "      <td>N</td>\n",
       "      <td>1</td>\n",
       "      <td>27-10-1964</td>\n",
       "      <td>Indirect</td>\n",
       "      <td>rbranson@southerninspection.co</td>\n",
       "      <td>...</td>\n",
       "      <td>NaN</td>\n",
       "      <td>Perfect 10</td>\n",
       "      <td>SPACEWAY3</td>\n",
       "      <td>NaN</td>\n",
       "      <td>Professional</td>\n",
       "      <td>Broadband Remote</td>\n",
       "      <td>TX</td>\n",
       "      <td>2004-01-03</td>\n",
       "      <td>NaN</td>\n",
       "      <td>75862</td>\n",
       "    </tr>\n",
       "    <tr>\n",
       "      <th>AMR-53383136</th>\n",
       "      <td>Closed</td>\n",
       "      <td>25 Valley View Lane</td>\n",
       "      <td>47</td>\n",
       "      <td>AVA</td>\n",
       "      <td>HNS Customers</td>\n",
       "      <td>Y</td>\n",
       "      <td>1</td>\n",
       "      <td>22-10-1965</td>\n",
       "      <td>Indirect</td>\n",
       "      <td>howvood@hughes.net</td>\n",
       "      <td>...</td>\n",
       "      <td>Retail/Others</td>\n",
       "      <td>ValueElectronics</td>\n",
       "      <td>SPACEWAY3</td>\n",
       "      <td>NaN</td>\n",
       "      <td>SO</td>\n",
       "      <td>Broadband Remote</td>\n",
       "      <td>MO</td>\n",
       "      <td>2004-07-28</td>\n",
       "      <td>NaN</td>\n",
       "      <td>65608</td>\n",
       "    </tr>\n",
       "    <tr>\n",
       "      <th>AMR-53608585</th>\n",
       "      <td>Closed</td>\n",
       "      <td>920 rockhold dr</td>\n",
       "      <td>61</td>\n",
       "      <td>THURMONT</td>\n",
       "      <td>HNS Customers</td>\n",
       "      <td>Y</td>\n",
       "      <td>1</td>\n",
       "      <td>20-3-1951</td>\n",
       "      <td>Indirect</td>\n",
       "      <td>pavel.groisman@hughes.net</td>\n",
       "      <td>...</td>\n",
       "      <td>Retail/Others</td>\n",
       "      <td>TAG</td>\n",
       "      <td>SPACEWAY3</td>\n",
       "      <td>NaN</td>\n",
       "      <td>NaN</td>\n",
       "      <td>Broadband Remote</td>\n",
       "      <td>MD</td>\n",
       "      <td>2005-04-27</td>\n",
       "      <td>NaN</td>\n",
       "      <td>21788</td>\n",
       "    </tr>\n",
       "    <tr>\n",
       "      <th>AMR-53610590</th>\n",
       "      <td>Closed</td>\n",
       "      <td>2501dune forest</td>\n",
       "      <td>64</td>\n",
       "      <td>KENEDY</td>\n",
       "      <td>HNS Customers</td>\n",
       "      <td>Y</td>\n",
       "      <td>1</td>\n",
       "      <td>27-3-1948</td>\n",
       "      <td>Indirect</td>\n",
       "      <td>jfary@hughes.net</td>\n",
       "      <td>...</td>\n",
       "      <td>NaN</td>\n",
       "      <td>TAG</td>\n",
       "      <td>SPACEWAY3</td>\n",
       "      <td>NaN</td>\n",
       "      <td>SO</td>\n",
       "      <td>Broadband Remote</td>\n",
       "      <td>TX</td>\n",
       "      <td>NaT</td>\n",
       "      <td>NaN</td>\n",
       "      <td>78119</td>\n",
       "    </tr>\n",
       "    <tr>\n",
       "      <th>AMR-53612154</th>\n",
       "      <td>Closed</td>\n",
       "      <td>RR 1 Box 134-1</td>\n",
       "      <td>56</td>\n",
       "      <td>LOVELL</td>\n",
       "      <td>HNS Customers</td>\n",
       "      <td>N</td>\n",
       "      <td>1</td>\n",
       "      <td>25-8-1956</td>\n",
       "      <td>Indirect</td>\n",
       "      <td>dp_photo@hughes.net</td>\n",
       "      <td>...</td>\n",
       "      <td>Retail/Others</td>\n",
       "      <td>Perfect 10</td>\n",
       "      <td>SPACEWAY3</td>\n",
       "      <td>NaN</td>\n",
       "      <td>Professional</td>\n",
       "      <td>Broadband Remote</td>\n",
       "      <td>ME</td>\n",
       "      <td>2005-11-12</td>\n",
       "      <td>NaN</td>\n",
       "      <td>4051</td>\n",
       "    </tr>\n",
       "  </tbody>\n",
       "</table>\n",
       "<p>5 rows × 30 columns</p>\n",
       "</div>"
      ],
      "text/plain": [
       "                    ACCOUNT_STATUS              ADDRESS AGE      CITY  \\\n",
       "SITE_ACCOUNT_NUMBER                                                     \n",
       "AMR-53205840                Closed        826 Nesom Rd.  48   TRINITY   \n",
       "AMR-53383136                Closed  25 Valley View Lane  47       AVA   \n",
       "AMR-53608585                Closed      920 rockhold dr  61  THURMONT   \n",
       "AMR-53610590                Closed      2501dune forest  64    KENEDY   \n",
       "AMR-53612154                Closed       RR 1 Box 134-1  56    LOVELL   \n",
       "\n",
       "                    COMPANY_SOURCE_NAME COMPUTER_OWNER  Churn DATE_OF_BIRTH  \\\n",
       "SITE_ACCOUNT_NUMBER                                                           \n",
       "AMR-53205840              HNS Customers              N      1    27-10-1964   \n",
       "AMR-53383136              HNS Customers              Y      1    22-10-1965   \n",
       "AMR-53608585              HNS Customers              Y      1     20-3-1951   \n",
       "AMR-53610590              HNS Customers              Y      1     27-3-1948   \n",
       "AMR-53612154              HNS Customers              N      1     25-8-1956   \n",
       "\n",
       "                    DIRECT_INDIRECT_CHANNEL                   EMAIL_ADDRESS  \\\n",
       "SITE_ACCOUNT_NUMBER                                                           \n",
       "AMR-53205840                       Indirect  rbranson@southerninspection.co   \n",
       "AMR-53383136                       Indirect              howvood@hughes.net   \n",
       "AMR-53608585                       Indirect       pavel.groisman@hughes.net   \n",
       "AMR-53610590                       Indirect                jfary@hughes.net   \n",
       "AMR-53612154                       Indirect             dp_photo@hughes.net   \n",
       "\n",
       "                     ...  SALES_CHANNEL      SALES_SOURCE  SATELLITE  \\\n",
       "SITE_ACCOUNT_NUMBER  ...                                               \n",
       "AMR-53205840         ...            NaN        Perfect 10  SPACEWAY3   \n",
       "AMR-53383136         ...  Retail/Others  ValueElectronics  SPACEWAY3   \n",
       "AMR-53608585         ...  Retail/Others               TAG  SPACEWAY3   \n",
       "AMR-53610590         ...            NaN               TAG  SPACEWAY3   \n",
       "AMR-53612154         ...  Retail/Others        Perfect 10  SPACEWAY3   \n",
       "\n",
       "                     SERVICE_ PLAN  SERVICE_PLAN    SITE_TYPE_DESC STATE  \\\n",
       "SITE_ACCOUNT_NUMBER                                                        \n",
       "AMR-53205840                   NaN  Professional  Broadband Remote    TX   \n",
       "AMR-53383136                   NaN            SO  Broadband Remote    MO   \n",
       "AMR-53608585                   NaN           NaN  Broadband Remote    MD   \n",
       "AMR-53610590                   NaN            SO  Broadband Remote    TX   \n",
       "AMR-53612154                   NaN  Professional  Broadband Remote    ME   \n",
       "\n",
       "                    UPGRADE_DATE WARRANTY_NAME  ZIPCODE  \n",
       "SITE_ACCOUNT_NUMBER                                      \n",
       "AMR-53205840          2004-01-03           NaN    75862  \n",
       "AMR-53383136          2004-07-28           NaN    65608  \n",
       "AMR-53608585          2005-04-27           NaN    21788  \n",
       "AMR-53610590                 NaT           NaN    78119  \n",
       "AMR-53612154          2005-11-12           NaN     4051  \n",
       "\n",
       "[5 rows x 30 columns]"
      ]
     },
     "execution_count": 11,
     "metadata": {},
     "output_type": "execute_result"
    }
   ],
   "source": [
    "df.head()"
   ]
  },
  {
   "cell_type": "code",
   "execution_count": 12,
   "metadata": {},
   "outputs": [
    {
     "data": {
      "text/plain": [
       "(19998, 30)"
      ]
     },
     "execution_count": 12,
     "metadata": {},
     "output_type": "execute_result"
    }
   ],
   "source": [
    "df.shape"
   ]
  },
  {
   "cell_type": "code",
   "execution_count": 13,
   "metadata": {},
   "outputs": [
    {
     "name": "stdout",
     "output_type": "stream",
     "text": [
      "<class 'pandas.core.frame.DataFrame'>\n",
      "Index: 19998 entries, AMR-53205840 to AMR-49999972\n",
      "Data columns (total 30 columns):\n",
      "ACCOUNT_STATUS               19983 non-null object\n",
      "ADDRESS                      19936 non-null object\n",
      "AGE                          19990 non-null object\n",
      "CITY                         19998 non-null object\n",
      "COMPANY_SOURCE_NAME          19980 non-null object\n",
      "COMPUTER_OWNER               13701 non-null object\n",
      "Churn                        19998 non-null int64\n",
      "DATE_OF_BIRTH                19990 non-null object\n",
      "DIRECT_INDIRECT_CHANNEL      19170 non-null object\n",
      "EMAIL_ADDRESS                19959 non-null object\n",
      "FEEDBACK                     16056 non-null object\n",
      "FIRST_COMMUNICATION_DATE     19989 non-null datetime64[ns]\n",
      "FIRST_NAME                   19972 non-null object\n",
      "GENDER                       17489 non-null float64\n",
      "INCOME                       19681 non-null object\n",
      "LAST_NAME                    19991 non-null object\n",
      "MARITAL_STATUS               19399 non-null object\n",
      "MODEL                        18613 non-null object\n",
      "MOST_RECENT_SALES_CHANNEL    19971 non-null object\n",
      "PRESENCE_OF_CHILDREN         17432 non-null float64\n",
      "SALES_CHANNEL                14491 non-null object\n",
      "SALES_SOURCE                 19016 non-null object\n",
      "SATELLITE                    18590 non-null object\n",
      "SERVICE_ PLAN                8760 non-null object\n",
      "SERVICE_PLAN                 8518 non-null object\n",
      "SITE_TYPE_DESC               19925 non-null object\n",
      "STATE                        19932 non-null object\n",
      "UPGRADE_DATE                 19110 non-null datetime64[ns]\n",
      "WARRANTY_NAME                18361 non-null object\n",
      "ZIPCODE                      19932 non-null object\n",
      "dtypes: datetime64[ns](2), float64(2), int64(1), object(25)\n",
      "memory usage: 4.7+ MB\n"
     ]
    }
   ],
   "source": [
    "df.info()"
   ]
  },
  {
   "cell_type": "code",
   "execution_count": 14,
   "metadata": {},
   "outputs": [
    {
     "data": {
      "text/plain": [
       "ACCOUNT_STATUS                  15\n",
       "ADDRESS                         62\n",
       "AGE                              8\n",
       "CITY                             0\n",
       "COMPANY_SOURCE_NAME             18\n",
       "COMPUTER_OWNER                6297\n",
       "Churn                            0\n",
       "DATE_OF_BIRTH                    8\n",
       "DIRECT_INDIRECT_CHANNEL        828\n",
       "EMAIL_ADDRESS                   39\n",
       "FEEDBACK                      3942\n",
       "FIRST_COMMUNICATION_DATE         9\n",
       "FIRST_NAME                      26\n",
       "GENDER                        2509\n",
       "INCOME                         317\n",
       "LAST_NAME                        7\n",
       "MARITAL_STATUS                 599\n",
       "MODEL                         1385\n",
       "MOST_RECENT_SALES_CHANNEL       27\n",
       "PRESENCE_OF_CHILDREN          2566\n",
       "SALES_CHANNEL                 5507\n",
       "SALES_SOURCE                   982\n",
       "SATELLITE                     1408\n",
       "SERVICE_ PLAN                11238\n",
       "SERVICE_PLAN                 11480\n",
       "SITE_TYPE_DESC                  73\n",
       "STATE                           66\n",
       "UPGRADE_DATE                   888\n",
       "WARRANTY_NAME                 1637\n",
       "ZIPCODE                         66\n",
       "dtype: int64"
      ]
     },
     "execution_count": 14,
     "metadata": {},
     "output_type": "execute_result"
    }
   ],
   "source": [
    "#find the null values\n",
    "df.isnull().sum()"
   ]
  },
  {
   "cell_type": "code",
   "execution_count": 15,
   "metadata": {},
   "outputs": [
    {
     "data": {
      "text/plain": [
       "Closed      9985\n",
       "Active      9985\n",
       "Inactive      13\n",
       "Name: ACCOUNT_STATUS, dtype: int64"
      ]
     },
     "execution_count": 15,
     "metadata": {},
     "output_type": "execute_result"
    }
   ],
   "source": [
    "df['ACCOUNT_STATUS'].value_counts()"
   ]
  },
  {
   "cell_type": "code",
   "execution_count": 16,
   "metadata": {},
   "outputs": [],
   "source": [
    "df['ACCOUNT_STATUS']=df['ACCOUNT_STATUS'].fillna(df['ACCOUNT_STATUS'].mode()[0])\n",
    "df['AGE']=df['AGE'].fillna(df['AGE'].mode()[0])\n",
    "df['GENDER']=df['GENDER'].fillna(df['GENDER'].mean())\n",
    "df.drop(['DATE_OF_BIRTH'],axis=1,inplace=True)\n",
    "df.drop(['EMAIL_ADDRESS'],axis=1,inplace=True)\n",
    "df['COMPUTER_OWNER']=df['COMPUTER_OWNER'].fillna(df['COMPUTER_OWNER'].mode()[0])\n",
    "df['COMPANY_SOURCE_NAME']=df['COMPANY_SOURCE_NAME'].fillna(df['COMPANY_SOURCE_NAME'].mode()[0])\n",
    "df['FEEDBACK']=df['FEEDBACK'].fillna(df['FEEDBACK'].mode()[0])"
   ]
  },
  {
   "cell_type": "code",
   "execution_count": 17,
   "metadata": {},
   "outputs": [
    {
     "data": {
      "text/plain": [
       "ACCOUNT_STATUS                   0\n",
       "ADDRESS                         62\n",
       "AGE                              0\n",
       "CITY                             0\n",
       "COMPANY_SOURCE_NAME              0\n",
       "COMPUTER_OWNER                   0\n",
       "Churn                            0\n",
       "DIRECT_INDIRECT_CHANNEL        828\n",
       "FEEDBACK                         0\n",
       "FIRST_COMMUNICATION_DATE         9\n",
       "FIRST_NAME                      26\n",
       "GENDER                           0\n",
       "INCOME                         317\n",
       "LAST_NAME                        7\n",
       "MARITAL_STATUS                 599\n",
       "MODEL                         1385\n",
       "MOST_RECENT_SALES_CHANNEL       27\n",
       "PRESENCE_OF_CHILDREN          2566\n",
       "SALES_CHANNEL                 5507\n",
       "SALES_SOURCE                   982\n",
       "SATELLITE                     1408\n",
       "SERVICE_ PLAN                11238\n",
       "SERVICE_PLAN                 11480\n",
       "SITE_TYPE_DESC                  73\n",
       "STATE                           66\n",
       "UPGRADE_DATE                   888\n",
       "WARRANTY_NAME                 1637\n",
       "ZIPCODE                         66\n",
       "dtype: int64"
      ]
     },
     "execution_count": 17,
     "metadata": {},
     "output_type": "execute_result"
    }
   ],
   "source": [
    "df.isnull().sum()"
   ]
  },
  {
   "cell_type": "code",
   "execution_count": 18,
   "metadata": {},
   "outputs": [],
   "source": [
    "#making marital_status column a int type variable\n",
    "df['MARITAL_STATUS']=df['MARITAL_STATUS'].replace(to_replace=\".\",value=3)\n",
    "df['MARITAL_STATUS']=df['MARITAL_STATUS'].fillna(df['MARITAL_STATUS'].mean())"
   ]
  },
  {
   "cell_type": "code",
   "execution_count": 19,
   "metadata": {},
   "outputs": [
    {
     "data": {
      "text/plain": [
       "0    5060\n",
       "6    2648\n",
       "4    2134\n",
       "3    2109\n",
       "5    2051\n",
       "7    1436\n",
       "8     976\n",
       "A     744\n",
       "9     698\n",
       "2     552\n",
       "D     430\n",
       "1     384\n",
       "C     278\n",
       "B     181\n",
       "Name: INCOME, dtype: int64"
      ]
     },
     "execution_count": 19,
     "metadata": {},
     "output_type": "execute_result"
    }
   ],
   "source": [
    "df['INCOME'].value_counts()"
   ]
  },
  {
   "cell_type": "code",
   "execution_count": 20,
   "metadata": {},
   "outputs": [],
   "source": [
    "df['INCOME']=df['INCOME'].replace(to_replace=\"A\",value=10)\n",
    "df['INCOME']=df['INCOME'].replace(to_replace=\"B\",value=11)\n",
    "df['INCOME']=df['INCOME'].replace(to_replace=\"C\",value=12)\n",
    "df['INCOME']=df['INCOME'].replace(to_replace=\"D\",value=13)"
   ]
  },
  {
   "cell_type": "code",
   "execution_count": 21,
   "metadata": {},
   "outputs": [],
   "source": [
    "df['INCOME']=df['INCOME'].fillna(df['INCOME'].mean())"
   ]
  },
  {
   "cell_type": "code",
   "execution_count": 22,
   "metadata": {},
   "outputs": [],
   "source": [
    "df=df.drop(columns=['SERVICE_ PLAN','SERVICE_PLAN','UPGRADE_DATE','SALES_SOURCE','SATELLITE','WARRANTY_NAME','FIRST_NAME',\n",
    "                   'LAST_NAME','ADDRESS','CITY'])\n"
   ]
  },
  {
   "cell_type": "code",
   "execution_count": 23,
   "metadata": {},
   "outputs": [
    {
     "data": {
      "text/plain": [
       "ACCOUNT_STATUS                  0\n",
       "AGE                             0\n",
       "COMPANY_SOURCE_NAME             0\n",
       "COMPUTER_OWNER                  0\n",
       "Churn                           0\n",
       "DIRECT_INDIRECT_CHANNEL       828\n",
       "FEEDBACK                        0\n",
       "FIRST_COMMUNICATION_DATE        9\n",
       "GENDER                          0\n",
       "INCOME                          0\n",
       "MARITAL_STATUS                  0\n",
       "MODEL                        1385\n",
       "MOST_RECENT_SALES_CHANNEL      27\n",
       "PRESENCE_OF_CHILDREN         2566\n",
       "SALES_CHANNEL                5507\n",
       "SITE_TYPE_DESC                 73\n",
       "STATE                          66\n",
       "ZIPCODE                        66\n",
       "dtype: int64"
      ]
     },
     "execution_count": 23,
     "metadata": {},
     "output_type": "execute_result"
    }
   ],
   "source": [
    "df.isnull().sum()"
   ]
  },
  {
   "cell_type": "code",
   "execution_count": 24,
   "metadata": {},
   "outputs": [],
   "source": [
    "df['SALES_CHANNEL']=df['SALES_CHANNEL'].replace(to_replace=\"Call Centers\",value=\"Call Center\")\n",
    "df['SALES_CHANNEL']=df['SALES_CHANNEL'].replace(to_replace=\"Retail/Others\",value=\"Retail/others\")\n",
    "df['SALES_CHANNEL']=df['SALES_CHANNEL'].replace(to_replace=\"Web Orders\",value=\"Web orders\")"
   ]
  },
  {
   "cell_type": "code",
   "execution_count": 25,
   "metadata": {},
   "outputs": [],
   "source": [
    "df['DIRECT_INDIRECT_CHANNEL']=df['DIRECT_INDIRECT_CHANNEL'].fillna(df['DIRECT_INDIRECT_CHANNEL'].mode()[0])\n",
    "df['MODEL']=df['MODEL'].fillna(df['MODEL'].mode()[0])\n",
    "df['PRESENCE_OF_CHILDREN']=df['PRESENCE_OF_CHILDREN'].fillna(df['PRESENCE_OF_CHILDREN'].median())\n",
    "df['SALES_CHANNEL']=df['SALES_CHANNEL'].fillna(df['SALES_CHANNEL'].mode()[0])"
   ]
  },
  {
   "cell_type": "code",
   "execution_count": 27,
   "metadata": {
    "scrolled": true
   },
   "outputs": [
    {
     "data": {
      "text/plain": [
       "ACCOUNT_STATUS                0\n",
       "AGE                           0\n",
       "COMPANY_SOURCE_NAME           0\n",
       "COMPUTER_OWNER                0\n",
       "Churn                         0\n",
       "DIRECT_INDIRECT_CHANNEL       0\n",
       "FEEDBACK                      0\n",
       "FIRST_COMMUNICATION_DATE      9\n",
       "GENDER                        0\n",
       "INCOME                        0\n",
       "MARITAL_STATUS                0\n",
       "MODEL                         0\n",
       "MOST_RECENT_SALES_CHANNEL    27\n",
       "PRESENCE_OF_CHILDREN          0\n",
       "SALES_CHANNEL                 0\n",
       "SITE_TYPE_DESC               73\n",
       "STATE                        66\n",
       "ZIPCODE                      66\n",
       "dtype: int64"
      ]
     },
     "execution_count": 27,
     "metadata": {},
     "output_type": "execute_result"
    }
   ],
   "source": [
    "df.isnull().sum()"
   ]
  },
  {
   "cell_type": "code",
   "execution_count": 28,
   "metadata": {},
   "outputs": [
    {
     "data": {
      "text/plain": [
       "(19998, 18)"
      ]
     },
     "execution_count": 28,
     "metadata": {},
     "output_type": "execute_result"
    }
   ],
   "source": [
    "df.shape"
   ]
  },
  {
   "cell_type": "code",
   "execution_count": 29,
   "metadata": {},
   "outputs": [],
   "source": [
    "df['AGE']=df['AGE'].replace(to_replace=\"NULL\",value=0)\n",
    "df['AGE']=df['AGE'].replace(to_replace=\".\",value=0)"
   ]
  },
  {
   "cell_type": "code",
   "execution_count": 30,
   "metadata": {},
   "outputs": [],
   "source": [
    "df['ZIPCODE']=df['ZIPCODE'].replace(to_replace=[\"nan\",' '],value=0)\n",
    "df.drop(['FIRST_COMMUNICATION_DATE'],axis=1,inplace=True)"
   ]
  },
  {
   "cell_type": "code",
   "execution_count": 31,
   "metadata": {},
   "outputs": [],
   "source": [
    "#Anova test\n",
    "import statsmodels.api as sm\n",
    "from statsmodels.formula.api import ols\n",
    "\n",
    "mod = ols('Churn ~ ACCOUNT_STATUS',data=df).fit()"
   ]
  },
  {
   "cell_type": "code",
   "execution_count": 32,
   "metadata": {},
   "outputs": [
    {
     "name": "stdout",
     "output_type": "stream",
     "text": [
      "                    sum_sq       df             F  PR(>F)\n",
      "ACCOUNT_STATUS  4984.52245      2.0  3.327175e+06     0.0\n",
      "Residual          14.97750  19995.0           NaN     NaN\n"
     ]
    }
   ],
   "source": [
    "aov_table = sm.stats.anova_lm(mod, typ=2)\n",
    "print (aov_table)"
   ]
  },
  {
   "cell_type": "code",
   "execution_count": 33,
   "metadata": {},
   "outputs": [
    {
     "name": "stdout",
     "output_type": "stream",
     "text": [
      "                    sum_sq       df            F  PR(>F)\n",
      "COMPUTER_OWNER   521.17343      1.0  2327.071029     0.0\n",
      "Residual        4478.32652  19996.0          NaN     NaN\n"
     ]
    }
   ],
   "source": [
    "mod2 = ols('Churn ~ COMPUTER_OWNER',data=df).fit()\n",
    "aov_table2 = sm.stats.anova_lm(mod2, typ=2)\n",
    "print (aov_table2)"
   ]
  },
  {
   "cell_type": "code",
   "execution_count": 34,
   "metadata": {},
   "outputs": [
    {
     "name": "stdout",
     "output_type": "stream",
     "text": [
      "                              sum_sq       df          F        PR(>F)\n",
      "DIRECT_INDIRECT_CHANNEL    17.568522      2.0  35.255665  5.195094e-16\n",
      "Residual                 4981.931428  19995.0        NaN           NaN\n"
     ]
    }
   ],
   "source": [
    "mod3 = ols('Churn ~ DIRECT_INDIRECT_CHANNEL',data=df).fit()\n",
    "aov_table3 = sm.stats.anova_lm(mod3, typ=2)\n",
    "print (aov_table3)"
   ]
  },
  {
   "cell_type": "code",
   "execution_count": 35,
   "metadata": {},
   "outputs": [
    {
     "name": "stdout",
     "output_type": "stream",
     "text": [
      "              sum_sq       df           F         PR(>F)\n",
      "FEEDBACK   233.00178      1.0  977.468873  1.537731e-209\n",
      "Residual  4766.49817  19996.0         NaN            NaN\n"
     ]
    }
   ],
   "source": [
    "mod4 = ols('Churn ~ FEEDBACK',data=df).fit()\n",
    "aov_table4 = sm.stats.anova_lm(mod4, typ=2)\n",
    "print (aov_table4)"
   ]
  },
  {
   "cell_type": "code",
   "execution_count": 36,
   "metadata": {},
   "outputs": [
    {
     "name": "stdout",
     "output_type": "stream",
     "text": [
      "               sum_sq       df           F  PR(>F)\n",
      "MODEL     1026.564918      6.0  860.910935     0.0\n",
      "Residual  3972.935032  19991.0         NaN     NaN\n"
     ]
    }
   ],
   "source": [
    "mod5 = ols('Churn ~ MODEL',data=df).fit()\n",
    "aov_table5 = sm.stats.anova_lm(mod5, typ=2)\n",
    "print (aov_table5)"
   ]
  },
  {
   "cell_type": "code",
   "execution_count": 37,
   "metadata": {},
   "outputs": [
    {
     "name": "stdout",
     "output_type": "stream",
     "text": [
      "                                sum_sq       df            F  PR(>F)\n",
      "MOST_RECENT_SALES_CHANNEL  3112.702244     20.0  1651.513358     0.0\n",
      "Residual                   1880.045641  19950.0          NaN     NaN\n"
     ]
    }
   ],
   "source": [
    "mod6 = ols('Churn ~ MOST_RECENT_SALES_CHANNEL',data=df).fit()\n",
    "aov_table6 = sm.stats.anova_lm(mod6, typ=2)\n",
    "print (aov_table6)"
   ]
  },
  {
   "cell_type": "code",
   "execution_count": 38,
   "metadata": {},
   "outputs": [
    {
     "name": "stdout",
     "output_type": "stream",
     "text": [
      "                    sum_sq       df         F    PR(>F)\n",
      "SALES_CHANNEL     2.471019      4.0  2.471623  0.042418\n",
      "Residual       4997.028931  19993.0       NaN       NaN\n"
     ]
    }
   ],
   "source": [
    "mod6 = ols('Churn ~ SALES_CHANNEL',data=df).fit()\n",
    "aov_table6 = sm.stats.anova_lm(mod6, typ=2)\n",
    "print (aov_table6)"
   ]
  },
  {
   "cell_type": "code",
   "execution_count": 39,
   "metadata": {},
   "outputs": [
    {
     "name": "stdout",
     "output_type": "stream",
     "text": [
      "                     sum_sq       df            F  PR(>F)\n",
      "SITE_TYPE_DESC   784.551568      1.0  3724.533151     0.0\n",
      "Residual        4196.665797  19923.0          NaN     NaN\n"
     ]
    }
   ],
   "source": [
    "mod7 = ols('Churn ~ SITE_TYPE_DESC',data=df).fit()\n",
    "aov_table7 = sm.stats.anova_lm(mod7, typ=2)\n",
    "print (aov_table7)"
   ]
  },
  {
   "cell_type": "code",
   "execution_count": 40,
   "metadata": {},
   "outputs": [
    {
     "name": "stdout",
     "output_type": "stream",
     "text": [
      "               sum_sq       df         F        PR(>F)\n",
      "STATE       50.304567     46.0  4.408506  1.940703e-21\n",
      "Residual  4932.689363  19885.0       NaN           NaN\n"
     ]
    }
   ],
   "source": [
    "mod8 = ols('Churn ~ STATE',data=df).fit()\n",
    "aov_table8 = sm.stats.anova_lm(mod8, typ=2)\n",
    "print (aov_table8)"
   ]
  },
  {
   "cell_type": "code",
   "execution_count": 41,
   "metadata": {},
   "outputs": [],
   "source": [
    "df.drop(['STATE'],axis=1,inplace=True)\n",
    "df.drop(['DIRECT_INDIRECT_CHANNEL'],axis=1,inplace=True)\n",
    "df.drop(['FEEDBACK'],axis=1,inplace=True)"
   ]
  },
  {
   "cell_type": "code",
   "execution_count": 42,
   "metadata": {},
   "outputs": [
    {
     "data": {
      "text/plain": [
       "array([48., 47., 61., 64., 56., 72., 55., 90., 42., 71., 51., 59., 32.,\n",
       "       37., 58., 52., 57., 70., 53., 54., 62., 24., 38., 74., 50., 28.,\n",
       "       81., 65., 68., 69., 31., 27., 25., 43., 60., 30., 36., 63., 49.,\n",
       "       41., 44., 39., 23., 45., 66., 35., 67., 46., 29., 83., 34., 33.,\n",
       "       40., 79., 75., 26., 89., 73., 86., 77., 22., 84., 76., 80., 78.,\n",
       "        0., 82., 92., 88.])"
      ]
     },
     "execution_count": 42,
     "metadata": {},
     "output_type": "execute_result"
    }
   ],
   "source": [
    "df.AGE.unique()"
   ]
  },
  {
   "cell_type": "code",
   "execution_count": 43,
   "metadata": {
    "scrolled": true
   },
   "outputs": [
    {
     "name": "stdout",
     "output_type": "stream",
     "text": [
      "<class 'pandas.core.frame.DataFrame'>\n",
      "Index: 19998 entries, AMR-53205840 to AMR-49999972\n",
      "Data columns (total 14 columns):\n",
      "ACCOUNT_STATUS               19998 non-null object\n",
      "AGE                          19998 non-null float64\n",
      "COMPANY_SOURCE_NAME          19998 non-null object\n",
      "COMPUTER_OWNER               19998 non-null object\n",
      "Churn                        19998 non-null int64\n",
      "GENDER                       19998 non-null float64\n",
      "INCOME                       19998 non-null float64\n",
      "MARITAL_STATUS               19998 non-null float64\n",
      "MODEL                        19998 non-null object\n",
      "MOST_RECENT_SALES_CHANNEL    19971 non-null object\n",
      "PRESENCE_OF_CHILDREN         19998 non-null float64\n",
      "SALES_CHANNEL                19998 non-null object\n",
      "SITE_TYPE_DESC               19925 non-null object\n",
      "ZIPCODE                      19932 non-null float64\n",
      "dtypes: float64(6), int64(1), object(7)\n",
      "memory usage: 2.9+ MB\n"
     ]
    }
   ],
   "source": [
    "df.info()"
   ]
  },
  {
   "cell_type": "code",
   "execution_count": 44,
   "metadata": {},
   "outputs": [
    {
     "data": {
      "text/plain": [
       "0.23293428768524352"
      ]
     },
     "execution_count": 44,
     "metadata": {},
     "output_type": "execute_result"
    }
   ],
   "source": [
    "df['AGE'].corr(df['Churn'])"
   ]
  },
  {
   "cell_type": "code",
   "execution_count": 45,
   "metadata": {},
   "outputs": [
    {
     "data": {
      "text/plain": [
       "-0.02136842765876223"
      ]
     },
     "execution_count": 45,
     "metadata": {},
     "output_type": "execute_result"
    }
   ],
   "source": [
    "df['GENDER'].corr(df['Churn'])"
   ]
  },
  {
   "cell_type": "code",
   "execution_count": 46,
   "metadata": {},
   "outputs": [
    {
     "data": {
      "text/plain": [
       "0.003004733328211427"
      ]
     },
     "execution_count": 46,
     "metadata": {},
     "output_type": "execute_result"
    }
   ],
   "source": [
    "df['INCOME'].corr(df['Churn'])"
   ]
  },
  {
   "cell_type": "code",
   "execution_count": 47,
   "metadata": {},
   "outputs": [
    {
     "data": {
      "text/plain": [
       "0.39274011624177346"
      ]
     },
     "execution_count": 47,
     "metadata": {},
     "output_type": "execute_result"
    }
   ],
   "source": [
    "df['MARITAL_STATUS'].corr(df['Churn'])"
   ]
  },
  {
   "cell_type": "code",
   "execution_count": 48,
   "metadata": {},
   "outputs": [
    {
     "data": {
      "text/plain": [
       "0.14515877544090322"
      ]
     },
     "execution_count": 48,
     "metadata": {},
     "output_type": "execute_result"
    }
   ],
   "source": [
    "df['PRESENCE_OF_CHILDREN'].corr(df['Churn'])"
   ]
  },
  {
   "cell_type": "code",
   "execution_count": 49,
   "metadata": {},
   "outputs": [
    {
     "data": {
      "text/plain": [
       "0.0031129714023687043"
      ]
     },
     "execution_count": 49,
     "metadata": {},
     "output_type": "execute_result"
    }
   ],
   "source": [
    "df['ZIPCODE'].corr(df['Churn'])"
   ]
  },
  {
   "cell_type": "code",
   "execution_count": 50,
   "metadata": {},
   "outputs": [],
   "source": [
    "#made a column having catagorical variables so that it can be used for one hot encoding\n",
    "columns=['ACCOUNT_STATUS','COMPANY_SOURCE_NAME','COMPUTER_OWNER','MODEL','MOST_RECENT_SALES_CHANNEL',\n",
    "         'SALES_CHANNEL','SITE_TYPE_DESC']"
   ]
  },
  {
   "cell_type": "code",
   "execution_count": 51,
   "metadata": {},
   "outputs": [
    {
     "data": {
      "text/plain": [
       "7"
      ]
     },
     "execution_count": 51,
     "metadata": {},
     "output_type": "execute_result"
    }
   ],
   "source": [
    "len(columns)"
   ]
  },
  {
   "cell_type": "code",
   "execution_count": 52,
   "metadata": {},
   "outputs": [],
   "source": [
    "def category_onehot_multcols(multcolumns):\n",
    "    df_final=df\n",
    "    i=0\n",
    "    for fields in multcolumns:\n",
    "        \n",
    "        print(fields)\n",
    "        df1=pd.get_dummies(df[fields],drop_first=True)\n",
    "        \n",
    "        df.drop([fields],axis=1,inplace=True)\n",
    "        if i==0:\n",
    "            df_final=df1.copy()\n",
    "        else:\n",
    "            \n",
    "            df_final=pd.concat([df_final,df1],axis=1)\n",
    "        i=i+1\n",
    "       \n",
    "        \n",
    "    df_final=pd.concat([df,df_final],axis=1)\n",
    "        \n",
    "    return df_final"
   ]
  },
  {
   "cell_type": "code",
   "execution_count": 53,
   "metadata": {},
   "outputs": [
    {
     "name": "stdout",
     "output_type": "stream",
     "text": [
      "ACCOUNT_STATUS\n",
      "COMPANY_SOURCE_NAME\n",
      "COMPUTER_OWNER\n",
      "MODEL\n",
      "MOST_RECENT_SALES_CHANNEL\n",
      "SALES_CHANNEL\n",
      "SITE_TYPE_DESC\n"
     ]
    }
   ],
   "source": [
    "df=category_onehot_multcols(columns)"
   ]
  },
  {
   "cell_type": "code",
   "execution_count": 54,
   "metadata": {},
   "outputs": [
    {
     "data": {
      "text/plain": [
       "(19998, 41)"
      ]
     },
     "execution_count": 54,
     "metadata": {},
     "output_type": "execute_result"
    }
   ],
   "source": [
    "df.shape"
   ]
  },
  {
   "cell_type": "code",
   "execution_count": 60,
   "metadata": {},
   "outputs": [
    {
     "data": {
      "text/plain": [
       "AGE                       0\n",
       "Churn                     0\n",
       "GENDER                    0\n",
       "INCOME                    0\n",
       "MARITAL_STATUS            0\n",
       "PRESENCE_OF_CHILDREN      0\n",
       "ZIPCODE                  66\n",
       "Closed                    0\n",
       "Inactive                  0\n",
       "Y                         0\n",
       "DW4020                    0\n",
       "DW6000                    0\n",
       "DW7000                    0\n",
       "HN7000S                   0\n",
       "HN9000                    0\n",
       "UNK                       0\n",
       "Business Edition          0\n",
       "Classic Migration         0\n",
       "DPC Classic upgrade       0\n",
       "DW6000 Upgrade            0\n",
       "DW7000 Upgrade            0\n",
       "Dealer - Direct Order     0\n",
       "Dealer-Generated Sale     0\n",
       "Dial Return Upgrade       0\n",
       "Direct                    0\n",
       "Distributor Sales Age     0\n",
       "EXPRESS REPAIR BASIC      0\n",
       "HN7000 Upgrade            0\n",
       "HN9000 Upgrade            0\n",
       "Hughes Sales Agents       0\n",
       "National Sales            0\n",
       "Retail                    0\n",
       "Retail                    0\n",
       "Retail - Direct Order     0\n",
       "UNKNOWN                   0\n",
       "Used Equipment            0\n",
       "Retail/others             0\n",
       "Sales Agents              0\n",
       "Vars                      0\n",
       "Web orders                0\n",
       "Spaceway                  0\n",
       "dtype: int64"
      ]
     },
     "execution_count": 60,
     "metadata": {},
     "output_type": "execute_result"
    }
   ],
   "source": [
    "df.isnull().sum()"
   ]
  },
  {
   "cell_type": "code",
   "execution_count": 61,
   "metadata": {},
   "outputs": [],
   "source": [
    "df['ZIPCODE']=df['ZIPCODE'].fillna(df['ZIPCODE'].mean())"
   ]
  },
  {
   "cell_type": "code",
   "execution_count": 62,
   "metadata": {},
   "outputs": [],
   "source": [
    "#train and test the model\n",
    "from sklearn.model_selection import train_test_split"
   ]
  },
  {
   "cell_type": "code",
   "execution_count": 63,
   "metadata": {},
   "outputs": [],
   "source": [
    "X_train,X_test,y_train,y_test=train_test_split(df.drop('Churn',axis=1),\n",
    "                                               df['Churn'],test_size=0.3,\n",
    "                                               random_state=101)"
   ]
  },
  {
   "cell_type": "code",
   "execution_count": 64,
   "metadata": {},
   "outputs": [],
   "source": [
    "#performing the logistic regression\n",
    "from sklearn.linear_model import LogisticRegression"
   ]
  },
  {
   "cell_type": "code",
   "execution_count": 65,
   "metadata": {},
   "outputs": [
    {
     "name": "stderr",
     "output_type": "stream",
     "text": [
      "C:\\Users\\HP\\Anaconda3\\lib\\site-packages\\sklearn\\linear_model\\logistic.py:432: FutureWarning: Default solver will be changed to 'lbfgs' in 0.22. Specify a solver to silence this warning.\n",
      "  FutureWarning)\n"
     ]
    },
    {
     "data": {
      "text/plain": [
       "LogisticRegression(C=1.0, class_weight=None, dual=False, fit_intercept=True,\n",
       "                   intercept_scaling=1, l1_ratio=None, max_iter=100,\n",
       "                   multi_class='warn', n_jobs=None, penalty='l2',\n",
       "                   random_state=None, solver='warn', tol=0.0001, verbose=0,\n",
       "                   warm_start=False)"
      ]
     },
     "execution_count": 65,
     "metadata": {},
     "output_type": "execute_result"
    }
   ],
   "source": [
    "logmodel=LogisticRegression()\n",
    "logmodel.fit(X_train,y_train)"
   ]
  },
  {
   "cell_type": "code",
   "execution_count": 67,
   "metadata": {},
   "outputs": [],
   "source": [
    "predictions=logmodel.predict(X_test)"
   ]
  },
  {
   "cell_type": "code",
   "execution_count": 70,
   "metadata": {},
   "outputs": [],
   "source": [
    "from sklearn.metrics import confusion_matrix"
   ]
  },
  {
   "cell_type": "code",
   "execution_count": 72,
   "metadata": {},
   "outputs": [],
   "source": [
    "accuracy=confusion_matrix(y_test,predictions)"
   ]
  },
  {
   "cell_type": "code",
   "execution_count": 74,
   "metadata": {},
   "outputs": [
    {
     "data": {
      "text/plain": [
       "array([[2993,    0],\n",
       "       [   8, 2999]], dtype=int64)"
      ]
     },
     "execution_count": 74,
     "metadata": {},
     "output_type": "execute_result"
    }
   ],
   "source": [
    "accuracy"
   ]
  },
  {
   "cell_type": "code",
   "execution_count": 76,
   "metadata": {},
   "outputs": [],
   "source": [
    "from sklearn.metrics import accuracy_score"
   ]
  },
  {
   "cell_type": "code",
   "execution_count": 77,
   "metadata": {},
   "outputs": [
    {
     "data": {
      "text/plain": [
       "0.9986666666666667"
      ]
     },
     "execution_count": 77,
     "metadata": {},
     "output_type": "execute_result"
    }
   ],
   "source": [
    "accuracy=accuracy_score(y_test,predictions)\n",
    "accuracy"
   ]
  }
 ],
 "metadata": {
  "kernelspec": {
   "display_name": "Python 3",
   "language": "python",
   "name": "python3"
  },
  "language_info": {
   "codemirror_mode": {
    "name": "ipython",
    "version": 3
   },
   "file_extension": ".py",
   "mimetype": "text/x-python",
   "name": "python",
   "nbconvert_exporter": "python",
   "pygments_lexer": "ipython3",
   "version": "3.7.3"
  }
 },
 "nbformat": 4,
 "nbformat_minor": 2
}
